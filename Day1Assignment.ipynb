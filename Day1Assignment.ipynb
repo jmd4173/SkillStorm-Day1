{
 "cells": [
  {
   "cell_type": "markdown",
   "metadata": {},
   "source": [
    "Excercise 1: Working with Dates & Times\n",
    "Get the current date and time.\n",
    "Format the date as YYYY-MM-DD.\n",
    "Calculate the number of days until your next birthday.\n",
    "\n",
    "Exercise 2: Dictionaries and Sets\n",
    "Create a Dictionary of 3 Students and their grades.\n",
    "Add a fourth student to the dictionary.\n",
    "Change the value of each student to another dictionary of their classes.\n",
    "Add all names of the students to a set.\n",
    "\n",
    "Exercise 3: Advanced String Operations\n",
    "Split a string into a list of words.\n",
    "Join a list of words into a single string with pipes separating them.\n",
    "Count the number of occurrences of a character in a string.\n",
    "\n",
    "Exercise 4: Lists and Basic Operations\n",
    "Create a list of integers.\n",
    "Append an integer to the list.\n",
    "Remove an integer from the list.\n",
    "Sort the list in ascending order."
   ]
  },
  {
   "cell_type": "code",
   "execution_count": 82,
   "metadata": {},
   "outputs": [
    {
     "name": "stdout",
     "output_type": "stream",
     "text": [
      "Current date:  2024-06-17\n",
      "Days until next birthday:  333\n"
     ]
    }
   ],
   "source": [
    "from datetime import datetime\n",
    "\n",
    "birthday = datetime.strptime(\"2025-05-17\", '%Y-%m-%d')\n",
    "now = datetime.now()\n",
    "print(\"Current date: \", now.strftime('%Y-%m-%d'))\n",
    "print (\"Days until next birthday: \", (birthday - now).days)"
   ]
  },
  {
   "cell_type": "code",
   "execution_count": 91,
   "metadata": {},
   "outputs": [
    {
     "name": "stdout",
     "output_type": "stream",
     "text": [
      "Students and their classes\n",
      "Rich {'Math': 90, 'Science': 95, 'History': 80}\n",
      "John {'Math': 90, 'Science': 95, 'History': 80}\n",
      "Jimmy {'Math': 90, 'Science': 95, 'History': 80}\n",
      "Dave {'Math': 90, 'Science': 95, 'History': 80}\n",
      "Set of the student names {'John', 'Rich', 'Dave', 'Jimmy'}\n"
     ]
    }
   ],
   "source": [
    "import random\n",
    "def main():\n",
    "    student_grades = {\n",
    "        \"Rich\":100,\n",
    "        \"John\":95,\n",
    "        \"Jimmy\":90\n",
    "    }\n",
    "    student_grades[\"Dave\"] = 85\n",
    "\n",
    "    students_classes = {\n",
    "        \"Rich\": {\"Math\": 90, \"Science\":95, \"History\": 80},\n",
    "        \"John\":{\"Math\": 90, \"Science\":95, \"History\": 80},\n",
    "        \"Jimmy\":{\"Math\": 90, \"Science\":95, \"History\": 80},\n",
    "        \"Dave\":{\"Math\": 90, \"Science\":95, \"History\": 80},\n",
    "    }\n",
    "\n",
    "    print(\"Students and their classes\")\n",
    "    classprinter(students_classes)\n",
    "    print(\"Set of the student names\", set(students_classes.keys()))\n",
    "\n",
    "def classprinter(student_classes):\n",
    "    for i in student_classes.items():\n",
    "        print (i[0],i[1])\n",
    "\n",
    "main()"
   ]
  },
  {
   "cell_type": "code",
   "execution_count": 98,
   "metadata": {},
   "outputs": [
    {
     "name": "stdout",
     "output_type": "stream",
     "text": [
      "['This', 'is', 'an', 'example', 'string', 'for', 'String', 'operations']\n",
      "Joined string with pipes This|is|an|example|string|for|String|operations\n",
      "Number of occurances of 'i': 5\n"
     ]
    }
   ],
   "source": [
    "def main():\n",
    "    sample_string = \"This is an example string for String operations\"\n",
    "    word_list = sample_string.split()\n",
    "    print (word_list)\n",
    "\n",
    "    joined_string = \"|\".join(word_list)\n",
    "    print(\"Joined string with pipes\", joined_string)\n",
    "\n",
    "    char_to_count = 'i'\n",
    "    counter = sample_string.count(char_to_count)\n",
    "    print(f\"Number of occurances of '{char_to_count}':\", counter)\n",
    "\n",
    "main()"
   ]
  },
  {
   "cell_type": "code",
   "execution_count": 99,
   "metadata": {},
   "outputs": [
    {
     "name": "stdout",
     "output_type": "stream",
     "text": [
      "[1, 2, 4, 6, 6, 22, 56]\n"
     ]
    }
   ],
   "source": [
    "int_list = [6,1,4,6,22,4,56,2]\n",
    "int_list.append(7)\n",
    "int_list.pop()\n",
    "int_list.remove(4)\n",
    "int_list.sort()\n",
    "print(int_list)\n"
   ]
  },
  {
   "cell_type": "code",
   "execution_count": 103,
   "metadata": {},
   "outputs": [
    {
     "name": "stdout",
     "output_type": "stream",
     "text": [
      "[0, 1, 4, 9, 16, 25, 36, 49, 64, 81, 100]\n",
      "[0, 4, 16, 36, 64, 100]\n",
      "{1: 'a', 2: 'b', 3: 'c', 4: 'd'}\n"
     ]
    }
   ],
   "source": [
    "squares = [ x**2 for x in range (11)]\n",
    "print(squares)\n",
    "\n",
    "even_list = [x**2 for x in range(11) if x % 2 == 0]\n",
    "print(even_list)\n",
    "\n",
    "keys = [1,2,3,4]\n",
    "val = [\"a\",\"b\",\"c\",\"d\"]\n",
    "chall1dictionary = {keys[i]:val[i] for i in range(len(keys))}\n",
    "print(chall1dictionary)\n"
   ]
  }
 ],
 "metadata": {
  "kernelspec": {
   "display_name": "Python 3",
   "language": "python",
   "name": "python3"
  },
  "language_info": {
   "codemirror_mode": {
    "name": "ipython",
    "version": 3
   },
   "file_extension": ".py",
   "mimetype": "text/x-python",
   "name": "python",
   "nbconvert_exporter": "python",
   "pygments_lexer": "ipython3",
   "version": "3.12.1"
  }
 },
 "nbformat": 4,
 "nbformat_minor": 2
}
