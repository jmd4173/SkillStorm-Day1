{
 "cells": [
  {
   "cell_type": "code",
   "execution_count": 4,
   "metadata": {},
   "outputs": [
    {
     "name": "stdout",
     "output_type": "stream",
     "text": [
      "\n",
      "This is a String\n",
      "Multi-Line python string\n",
      "\n"
     ]
    }
   ],
   "source": [
    "# Intro to Python\n",
    "## Data types and Basic Functions\n",
    "\n",
    "#Int, String, Float (In python floats are doubles), Double(double precision,), Boolean\n",
    "#Char, Complex\n",
    "\n",
    "# String is str\n",
    "\n",
    "StringIntro = \"\"\"\n",
    "This is a String\n",
    "Multi-Line python string\n",
    "\"\"\"\n",
    "print(StringIntro)\n"
   ]
  },
  {
   "cell_type": "code",
   "execution_count": 8,
   "metadata": {},
   "outputs": [
    {
     "name": "stdout",
     "output_type": "stream",
     "text": [
      "(3+3j)\n",
      "7.24\n",
      "16\n"
     ]
    }
   ],
   "source": [
    "test_int = 4\n",
    "test_float = 3.24\n",
    "test_complex = 3 + 3j\n",
    "print(test_complex)\n",
    "print(test_int + test_float) #implicitly casts int into float\n",
    "print(test_int**2) #exponent x**y\n",
    "\n",
    "##\n",
    "#x+y  addition\n",
    "#x-y  subtraction\n",
    "#x*y  multiplication\n",
    "#x/y  division\n",
    "#x**y exponents\n",
    "#x%y  find remainder\n",
    "##\n"
   ]
  },
  {
   "cell_type": "code",
   "execution_count": 9,
   "metadata": {},
   "outputs": [],
   "source": [
    "# Collection Types: Tuples are very important\n",
    "# List, Dictionary, Set, Trees, Tuple\n"
   ]
  },
  {
   "cell_type": "code",
   "execution_count": 10,
   "metadata": {},
   "outputs": [],
   "source": [
    "# Boolean\n",
    "# Either True or False\n",
    "# Reserved words: True / False : Must be Caps\n",
    "\n",
    "test_true = True\n",
    "test_false = False\n",
    "\n",
    "# None is Null keyword\n",
    "\n",
    "\n"
   ]
  },
  {
   "cell_type": "code",
   "execution_count": 11,
   "metadata": {},
   "outputs": [],
   "source": [
    "# Casting variables\n",
    "\n",
    "x = int (\"3\")\n",
    "\n",
    "y = str(123)\n",
    "\n",
    "# Must be able to parse as respective type int(\"words\") will fail\n"
   ]
  },
  {
   "cell_type": "code",
   "execution_count": 12,
   "metadata": {},
   "outputs": [],
   "source": [
    "# Syntax\n",
    "\n",
    "# https://peps.python.org/pep-0008/"
   ]
  },
  {
   "cell_type": "code",
   "execution_count": 24,
   "metadata": {},
   "outputs": [
    {
     "name": "stdout",
     "output_type": "stream",
     "text": [
      "19\n"
     ]
    }
   ],
   "source": [
    "# Dunder Methods\n",
    "# Essentially constructors\n",
    "\n",
    "class Animal:\n",
    "    #age: int\n",
    "    #name: str\n",
    "    def __init__(self, age, type):\n",
    "        self.age = age\n",
    "        self.type = type\n",
    "\n",
    "if __name__ == \"__main__\":\n",
    "    Animal1 = Animal(19, \"Tiger\")\n",
    "    print(Animal1.age)\n"
   ]
  },
  {
   "cell_type": "code",
   "execution_count": 31,
   "metadata": {},
   "outputs": [
    {
     "name": "stdout",
     "output_type": "stream",
     "text": [
      "2024-06-17 13:12:29.406020\n",
      "2024-06-17\n",
      "<class 'datetime.datetime'>\n"
     ]
    }
   ],
   "source": [
    "# Datetime Module\n",
    "\n",
    "import datetime\n",
    "\n",
    "print(datetime.datetime.now())\n",
    "print(datetime.date.today())\n",
    "print(type(datetime.datetime.now()))\n",
    "\n",
    "\n"
   ]
  },
  {
   "cell_type": "code",
   "execution_count": 46,
   "metadata": {},
   "outputs": [
    {
     "name": "stdout",
     "output_type": "stream",
     "text": [
      "Monday Mon\n",
      "49\n",
      "06-17-2024\n"
     ]
    }
   ],
   "source": [
    "import datetime\n",
    "\n",
    "now = datetime.datetime.now()\n",
    "\n",
    "print(now.strftime('%A %a'))\n",
    "print(now.strftime('%S'))\n",
    "print(now.strftime('%m-%d-%Y'))\n"
   ]
  },
  {
   "cell_type": "code",
   "execution_count": 49,
   "metadata": {},
   "outputs": [
    {
     "name": "stdout",
     "output_type": "stream",
     "text": [
      "2024-06-17 00:00:00\n"
     ]
    }
   ],
   "source": [
    "import datetime\n",
    "\n",
    "date = \"2024-06-17\"\n",
    "\n",
    "# Parsing a string into a datetime onject\n",
    "date_obj = datetime.datetime.strptime(date, '%Y-%m-%d')\n",
    "print(date_obj)"
   ]
  },
  {
   "cell_type": "code",
   "execution_count": 78,
   "metadata": {},
   "outputs": [
    {
     "name": "stdout",
     "output_type": "stream",
     "text": [
      " \n",
      "       HELLO WORLD!\n",
      "       hello world!\n",
      "Hello Worl\n",
      "['Hello', 'World!']\n",
      "Hello World! lets join togetherHello World! lets join together\n"
     ]
    }
   ],
   "source": [
    "# char - Not really a char - Considered as a String\n",
    "# Strings are indexable\n",
    "\n",
    "string = \"       Hello World!\"\n",
    "string2 = \" lets join together\"\n",
    "\n",
    "print (string[0])\n",
    "#for char in string:\n",
    "#    print(char.upper())\n",
    "\n",
    "print(string.upper())\n",
    "print(string.lower())\n",
    "print(string.strip(\" !d\"))\n",
    "print(string.strip().split())\n",
    "print((string + string2).strip() * 2)"
   ]
  },
  {
   "cell_type": "code",
   "execution_count": 82,
   "metadata": {},
   "outputs": [
    {
     "name": "stdout",
     "output_type": "stream",
     "text": [
      "90\n",
      "9999999999\n"
     ]
    }
   ],
   "source": [
    "str1 = \"9\"\n",
    "str2 = 10\n",
    "\n",
    "# Interesting operators on String objects\n",
    "print(int(str1) * str2)\n",
    "print(str1 * str2)"
   ]
  },
  {
   "cell_type": "code",
   "execution_count": 93,
   "metadata": {},
   "outputs": [
    {
     "name": "stdout",
     "output_type": "stream",
     "text": [
      " 10.00 People recieved 100 on their test\n"
     ]
    }
   ],
   "source": [
    "# String format\n",
    "\n",
    "y = 10 \n",
    "x = 100\n",
    "\n",
    "print(f\"{y: .2f} People recieved {x} on their test\")"
   ]
  },
  {
   "cell_type": "code",
   "execution_count": 97,
   "metadata": {},
   "outputs": [
    {
     "name": "stdout",
     "output_type": "stream",
     "text": [
      "True\n",
      "3ello World\n",
      "Hello World\n"
     ]
    }
   ],
   "source": [
    "print(\"dog\" in \"dogman\")\n",
    "test = \"Hello World\"\n",
    "print(test.replace(\"H\", \"3\"))\n",
    "print(test)"
   ]
  },
  {
   "cell_type": "code",
   "execution_count": 121,
   "metadata": {},
   "outputs": [
    {
     "name": "stdout",
     "output_type": "stream",
     "text": [
      "Jim\n",
      "['George', 'Hank', 'Jim', 'George']\n",
      "['George', 'Jim', 'Hank', 'George']\n",
      "['George', 'Jim', 'Hank']\n"
     ]
    }
   ],
   "source": [
    "mylist = [\"George\", \"Jim\", \"Hank\",\"George\"]\n",
    "print (mylist[1])\n",
    "print (mylist[::-1])\n",
    "print (list(reversed(mylist))[::-1])\n",
    "print(mylist[0:3])"
   ]
  },
  {
   "cell_type": "code",
   "execution_count": 123,
   "metadata": {},
   "outputs": [
    {
     "name": "stdout",
     "output_type": "stream",
     "text": [
      "{1, 2, 3, 4, 5}\n",
      "{'Jim', 'Hank', 'George'}\n"
     ]
    }
   ],
   "source": [
    "my_set = {1,2,2,3,4,5}\n",
    "print(my_set)\n",
    "\n",
    "list_to_set = set(mylist)\n",
    "print(list_to_set)\n"
   ]
  },
  {
   "cell_type": "code",
   "execution_count": 125,
   "metadata": {},
   "outputs": [
    {
     "name": "stdout",
     "output_type": "stream",
     "text": [
      "[0, 1, 2, 3, 4, 5, 6, 7, 8, 9]\n"
     ]
    }
   ],
   "source": [
    "my_list = []\n",
    "\n",
    "for i in range (10):\n",
    "    my_list.append(i)\n",
    "print(my_list)\n",
    "\n",
    "my_list[3] = 10\n",
    "print(my_list)"
   ]
  }
 ],
 "metadata": {
  "kernelspec": {
   "display_name": "Python 3",
   "language": "python",
   "name": "python3"
  },
  "language_info": {
   "codemirror_mode": {
    "name": "ipython",
    "version": 3
   },
   "file_extension": ".py",
   "mimetype": "text/x-python",
   "name": "python",
   "nbconvert_exporter": "python",
   "pygments_lexer": "ipython3",
   "version": "3.12.1"
  }
 },
 "nbformat": 4,
 "nbformat_minor": 2
}
