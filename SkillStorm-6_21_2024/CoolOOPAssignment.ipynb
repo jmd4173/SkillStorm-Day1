{
 "cells": [
  {
   "cell_type": "code",
   "execution_count": 8,
   "metadata": {},
   "outputs": [
    {
     "ename": "SyntaxError",
     "evalue": "incomplete input (2289072749.py, line 21)",
     "output_type": "error",
     "traceback": [
      "\u001b[1;36m  Cell \u001b[1;32mIn[8], line 21\u001b[1;36m\u001b[0m\n\u001b[1;33m    \u001b[0m\n\u001b[1;37m    ^\u001b[0m\n\u001b[1;31mSyntaxError\u001b[0m\u001b[1;31m:\u001b[0m incomplete input\n"
     ]
    }
   ],
   "source": [
    "class ComputerComponent:\n",
    "    def __init__(self,manufacturer, model, serial_number):\n",
    "        self.manufacturer = manufacturer\n",
    "        self.model = model\n",
    "        self.serial_number = serial_number\n",
    "\n",
    "    def getManufacturer(self):\n",
    "        return self.manufacturer\n",
    "    \n",
    "    def getModel(self):\n",
    "        return self.model\n",
    "    \n",
    "    def getSerial_Number(self):\n",
    "        return self.serial_number\n",
    "    \n",
    "\n",
    "class CPU(ComputerComponent):\n",
    "    def __init__(self, manufacturer, model, serial_number, cores, clock_speed):\n",
    "        super().__init__(manufacturer, model, serial_number)\n",
    "        self.cores = cores\n",
    "        self.clock_speed = clock_speed\n",
    "\n",
    "    \n",
    "    \n"
   ]
  },
  {
   "cell_type": "code",
   "execution_count": 9,
   "metadata": {},
   "outputs": [
    {
     "name": "stdout",
     "output_type": "stream",
     "text": [
      "NVidia\n",
      "3090\n",
      "123123131\n"
     ]
    }
   ],
   "source": [
    "part1 = ComputerComponent(\"NVidia\",\"3090\",123123131)\n",
    "CPUpart = CPU(\"NVidia\",\"3090\",123123131)\n",
    "print(CPUpart.getManufacturer())\n",
    "print(CPUpart.getModel())\n",
    "print(CPUpart.getSerial_Number())"
   ]
  },
  {
   "cell_type": "code",
   "execution_count": 10,
   "metadata": {},
   "outputs": [
    {
     "name": "stdout",
     "output_type": "stream",
     "text": [
      "Computer Information:\n",
      "CPU: Manufacturer: Intel, Model: i7-9700K, Serial Number: 123ABC, Cores: 8, Clock Speed: 3.6 GHz\n",
      "Memory: Manufacturer: Corsair, Model: Vengeance LPX, Serial Number: 456DEF, Capacity: 16 GB\n",
      "Storage: Manufacturer: Samsung, Model: EVO 860, Serial Number: 789GHI, Type: SSD, Size: 500 GB\n",
      "\n",
      "After replacing the CPU:\n",
      "\n",
      "Computer Information:\n",
      "CPU: Manufacturer: AMD, Model: Ryzen 9 3900X, Serial Number: 321CBA, Cores: 12, Clock Speed: 3.8 GHz\n",
      "Memory: Manufacturer: Corsair, Model: Vengeance LPX, Serial Number: 456DEF, Capacity: 16 GB\n",
      "Storage: Manufacturer: Samsung, Model: EVO 860, Serial Number: 789GHI, Type: SSD, Size: 500 GB\n"
     ]
    }
   ],
   "source": [
    "class ComputerComponent:\n",
    "    def __init__(self, manufacturer, model, serial_number):\n",
    "        self.manufacturer = manufacturer\n",
    "        self.model = model\n",
    "        self.serial_number = serial_number\n",
    "    \n",
    "    def display_details(self):\n",
    "        return f\"Manufacturer: {self.manufacturer}, Model: {self.model}, Serial Number: {self.serial_number}\"\n",
    "\n",
    "\n",
    "class CPU(ComputerComponent):\n",
    "    def __init__(self, manufacturer, model, serial_number, cores, clock_speed):\n",
    "        super().__init__(manufacturer, model, serial_number)\n",
    "        self.cores = cores\n",
    "        self.clock_speed = clock_speed\n",
    "\n",
    "    def display_details(self):\n",
    "        details = super().display_details()\n",
    "        return f\"{details}, Cores: {self.cores}, Clock Speed: {self.clock_speed} GHz\"\n",
    "\n",
    "class Memory(ComputerComponent):\n",
    "    def __init__(self, manufacturer, model, serial_number, capacity):\n",
    "        super().__init__(manufacturer, model, serial_number)\n",
    "        self.capacity = capacity\n",
    "\n",
    "    def display_details(self):\n",
    "        details = super().display_details()\n",
    "        return f\"{details}, Capacity: {self.capacity} GB\"\n",
    "\n",
    "class Storage(ComputerComponent):\n",
    "    def __init__(self, manufacturer, model, serial_number, storage_type, size):\n",
    "        super().__init__(manufacturer, model, serial_number)\n",
    "        self.storage_type = storage_type\n",
    "        self.size = size\n",
    "\n",
    "    def display_details(self):\n",
    "        details = super().display_details()\n",
    "        return f\"{details}, Type: {self.storage_type}, Size: {self.size} GB\"\n",
    "\n",
    "\n",
    "class Computer:\n",
    "    def __init__(self, cpu, memory, storage):\n",
    "        self.set_cpu(cpu)\n",
    "        self.set_memory(memory)\n",
    "        self.set_storage(storage)\n",
    "\n",
    "    def set_cpu(self, cpu):\n",
    "        if not isinstance(cpu, CPU):\n",
    "            raise ValueError(\"Invalid CPU component\")\n",
    "        self.cpu = cpu\n",
    "\n",
    "    def set_memory(self, memory):\n",
    "        if not isinstance(memory, Memory):\n",
    "            raise ValueError(\"Invalid Memory component\")\n",
    "        self.memory = memory\n",
    "\n",
    "    def set_storage(self, storage):\n",
    "        if not isinstance(storage, Storage):\n",
    "            raise ValueError(\"Invalid Storage component\")\n",
    "        self.storage = storage\n",
    "\n",
    "    def display_computer_info(self):\n",
    "        return (\n",
    "            f\"Computer Information:\\n\"\n",
    "            f\"CPU: {self.cpu.display_details()}\\n\"\n",
    "            f\"Memory: {self.memory.display_details()}\\n\"\n",
    "            f\"Storage: {self.storage.display_details()}\"\n",
    "        )\n",
    "\n",
    "    def replace_component(self, component_type, new_component):\n",
    "        if component_type == 'cpu' and isinstance(new_component, CPU):\n",
    "            self.set_cpu(new_component)\n",
    "        elif component_type == 'memory' and isinstance(new_component, Memory):\n",
    "            self.set_memory(new_component)\n",
    "        elif component_type == 'storage' and isinstance(new_component, Storage):\n",
    "            self.set_storage(new_component)\n",
    "        else:\n",
    "            raise ValueError(\"Invalid component type or mismatched component\")\n",
    "\n",
    "\n",
    "if __name__ == \"__main__\":\n",
    "    cpu = CPU(\"Intel\", \"i7-9700K\", \"123ABC\", 8, 3.6)\n",
    "    memory = Memory(\"Corsair\", \"Vengeance LPX\", \"456DEF\", 16)\n",
    "    storage = Storage(\"Samsung\", \"EVO 860\", \"789GHI\", \"SSD\", 500)\n",
    "\n",
    "    my_computer = Computer(cpu, memory, storage)\n",
    "    print(my_computer.display_computer_info())\n",
    "\n",
    "    \n",
    "    new_cpu = CPU(\"AMD\", \"Ryzen 9 3900X\", \"321CBA\", 12, 3.8)\n",
    "    my_computer.replace_component('cpu', new_cpu)\n",
    "    print(\"\\nAfter replacing the CPU:\\n\")\n",
    "    print(my_computer.display_computer_info())"
   ]
  }
 ],
 "metadata": {
  "kernelspec": {
   "display_name": ".venv",
   "language": "python",
   "name": "python3"
  },
  "language_info": {
   "codemirror_mode": {
    "name": "ipython",
    "version": 3
   },
   "file_extension": ".py",
   "mimetype": "text/x-python",
   "name": "python",
   "nbconvert_exporter": "python",
   "pygments_lexer": "ipython3",
   "version": "3.12.1"
  }
 },
 "nbformat": 4,
 "nbformat_minor": 2
}
