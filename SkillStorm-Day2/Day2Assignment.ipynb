{
 "cells": [
  {
   "cell_type": "markdown",
   "metadata": {},
   "source": [
    "# Tuesday Daily Assignments\n",
    "\n",
    "## Excercises\n",
    "\n",
    "### Excercise 1: String Validator\n",
    "Write a function that takes in an input from the user and runs a string validation check on it. The output should be as follows.\n",
    "- On the first line, print True if  has any alphanumeric characters. Otherwise, print False.\n",
    "- On the second line, print True if  has any alphabetical characters. Otherwise, print False.\n",
    "- On the third line, print True if  has any digits. Otherwise, print False.\n",
    "- On the fourth line, print True if  has any lowercase characters. Otherwise, print False.\n",
    "- On the fifth line, print True if  has any uppercase characters. Otherwise, print False.\n",
    "\n",
    "Hint: Try looking at the built in [string methods](https://www.w3schools.com/python/python_ref_string.asp)\n",
    "\n",
    "\n",
    "### Excercise 2: Regular Expressions\n",
    "Build regular expressions that matches patterns with the following constraints:\n",
    "- Any word at the begging of a string\n",
    "- Any time that the character after a whitespace is a digit\n",
    "- any word with punctuation at the end of a string\n",
    "- any occurances of consecutive digits 1,2, or 3\n",
    "- any word with double letters (i.e. letter, filler, skill, parrot)\n",
    "\n",
    "### Excercise 3: Word Count\n",
    "Get an accurate word count of the Pride and Prejudice text starting from the first word of Chapter 1.\n",
    "\n",
    "### Excercise 4: Word Score\n",
    "Write a function two take in n words and returns a single integer of their combined score.\n",
    "- A word is worth 1 point if it has an odd number of vowels\n",
    "- A word is worth 2 points if it has an even number of vowels\n",
    "- Output should be the summed total of all scores of the words\n",
    "- For the purposes of this excercise vowels will consist of [a,e,i,o,u,y]\n",
    "\n",
    "Example Input: `\"programming is awesome\"`\n",
    "Example Output: 4\n",
    "- Programming = 1 for 3 vowels; is = 1 for 1 vowel; awesome = 2 for 4 vowels\n",
    "- 1 + 1 + 2 = 4"
   ]
  },
  {
   "cell_type": "code",
   "execution_count": 22,
   "metadata": {},
   "outputs": [
    {
     "name": "stdout",
     "output_type": "stream",
     "text": [
      "Enter User input\n",
      "Contains Alphanumeric : True\n",
      "Contains Alphabetic : True\n",
      "Contains Digits : False\n",
      "Contains LowerCase : True\n",
      "Contains UpperCase: True\n"
     ]
    }
   ],
   "source": [
    "### Excercise 1: String Validator\n",
    "import re\n",
    "def main():\n",
    "    print(\"Enter User input\")\n",
    "    user_input = \"This is example input\"\n",
    "    print(\"Contains Alphanumeric :\",str_validator(\"[a-zA-Z1-9]\",user_input))\n",
    "    print(\"Contains Alphabetic :\",str_validator(\"[a-zA-Z]\",user_input))\n",
    "    print(\"Contains Digits :\",str_validator(\"[1-9]\",user_input))\n",
    "    print(\"Contains LowerCase :\",str_validator(\"[a-z]\",user_input))\n",
    "    print(\"Contains UpperCase:\",str_validator(\"[A-Z]\",user_input))\n",
    "\n",
    "def str_validator(regEx:str,user_input:str):\n",
    "    return bool(re.search(regEx, user_input))\n",
    "    \n",
    "main()\n",
    "\n"
   ]
  },
  {
   "cell_type": "code",
   "execution_count": 24,
   "metadata": {},
   "outputs": [],
   "source": [
    "### Excercise 2: Regular Expressions\n",
    "\n",
    "\n",
    "def main():\n",
    "    examplestr = \"This is an example string with 1 filler word and with a pair of consecutive digits 44 word.\"\n",
    "    beginningOfString = r\"^\\w*\"\n",
    "    digitAfterWhitespace = r\"\\s(\\d)\"\n",
    "    WordWithPunctuationAtEnd = r\"\\w+[^\\w\\s]$\"\n",
    "    Consecutive123 = r\"[123]{2}\"\n",
    "    AnywordWithDoubleLetter = \"\"\n",
    "main()\n",
    "#changed\n",
    "\n",
    "\n"
   ]
  },
  {
   "cell_type": "code",
   "execution_count": 22,
   "metadata": {},
   "outputs": [
    {
     "name": "stdout",
     "output_type": "stream",
     "text": [
      "124465\n"
     ]
    }
   ],
   "source": [
    "### Excercise 3: Word Count\n",
    "file_path = \"C:\\\\Users\\\\jdangelo\\\\SkillStorm-Day1\\\\SkillStorm-Day2\\\\Pride_and_Prejudice.txt\"\n",
    "with open(file = file_path, mode = 'rt', encoding=\"utf-8\") as f:\n",
    "    text = f.read()\n",
    "    text_after_chapter = text[1814:]\n",
    "    print(len(text_after_chapter.split()))\n",
    "\n",
    "#"
   ]
  },
  {
   "cell_type": "code",
   "execution_count": 33,
   "metadata": {},
   "outputs": [
    {
     "name": "stdout",
     "output_type": "stream",
     "text": [
      "4\n"
     ]
    }
   ],
   "source": [
    "### Exercise 4: Word Score\n",
    "import re\n",
    "def ProcessString(*string) -> int:\n",
    "    \n",
    "    total = 0\n",
    "    for x in string:\n",
    "        if (len(re.findall(r'[aieou]',x)) % 2 == 0):\n",
    "            total += 2\n",
    "        else:\n",
    "            total +=1\n",
    "    return total\n",
    "    \n",
    "\n",
    "string = \"programming is awesome!\"\n",
    "split = string.split()    \n",
    "print(ProcessString(*split))"
   ]
  },
  {
   "cell_type": "code",
   "execution_count": null,
   "metadata": {},
   "outputs": [],
   "source": []
  }
 ],
 "metadata": {
  "kernelspec": {
   "display_name": "Python 3",
   "language": "python",
   "name": "python3"
  },
  "language_info": {
   "codemirror_mode": {
    "name": "ipython",
    "version": 3
   },
   "file_extension": ".py",
   "mimetype": "text/x-python",
   "name": "python",
   "nbconvert_exporter": "python",
   "pygments_lexer": "ipython3",
   "version": "3.12.1"
  }
 },
 "nbformat": 4,
 "nbformat_minor": 2
}
