{
 "cells": [
  {
   "cell_type": "code",
   "execution_count": 16,
   "metadata": {},
   "outputs": [
    {
     "name": "stdout",
     "output_type": "stream",
     "text": [
      "he Project Gutenberg eBook of Pride and Prejudice\n",
      "\n",
      "Pride and Prejudice\n"
     ]
    }
   ],
   "source": [
    "# File Operations\n",
    "\n",
    "# Use the Open() to work with files\n",
    "\n",
    "# 'r' - read - read only, error if file doesn't exist\n",
    "# 'w' - write - opens for writing, creates file if doesn't exist\n",
    "# 'a' - append - adds text to end of file, creates file if doesn't exist\n",
    "# 'x' - create - creates new file if doesn't exist, error if exist\n",
    "\n",
    "# Types of data we can use \n",
    "# 't' - text data\n",
    "# 'b' - binary data\n",
    "\n",
    "# default is 'rt' - reading text\n",
    "file_path = \"C:\\\\Users\\\\jdangelo\\\\SkillStormCloning\\\\20240617-DE-TS-LectureMaterials\\\\Python\\\\Data\\\\Pride_and_Prejudice.txt\"\n",
    "file = open(file_path, \"rt\", encoding=\"utf-8\")\n",
    "print(file.read()[2:51])\n",
    "\n",
    "file.seek(944)\n",
    "print(file.read(20))\n",
    "file.close()"
   ]
  },
  {
   "cell_type": "code",
   "execution_count": 62,
   "metadata": {},
   "outputs": [],
   "source": [
    "with open(file = file_path, mode = 'rt', encoding=\"utf-8\") as f:\n",
    "    #book = f.read()\n",
    "    lines = f.readlines()\n",
    "#print(type(book))\n",
    "#for x in lines:\n",
    "    #print(x)"
   ]
  },
  {
   "cell_type": "code",
   "execution_count": 37,
   "metadata": {},
   "outputs": [
    {
     "name": "stdout",
     "output_type": "stream",
     "text": [
      "General error\n",
      "Finally block\n"
     ]
    }
   ],
   "source": [
    "output_file = \"C:\\\\Users\\\\jdangelo\\\\SkillStorm-Day2\\\\output.txt\"\n",
    "\n",
    "line1 = \"Writing to file\\n\"\n",
    "\n",
    "with open(file = output_file, mode='wt',encoding=\"utf-8\") as f:\n",
    "    f.write(line1)\n",
    "\n",
    "with open(file = output_file, mode='at',encoding=\"utf-8\") as f:\n",
    "    f.write(line1)\n",
    "\n",
    "try:\n",
    "    x = 3 / 1\n",
    "    raise Exception\n",
    "except ArithmeticError:\n",
    "    print (\"Math error\")\n",
    "except:\n",
    "    print(\"General error\")\n",
    "finally:\n",
    "    print (\"Finally block\")"
   ]
  },
  {
   "cell_type": "code",
   "execution_count": 43,
   "metadata": {},
   "outputs": [
    {
     "name": "stdout",
     "output_type": "stream",
     "text": [
      "c:\\Users\\jdangelo\\SkillStorm-Day2\n",
      "['bee-movie-script.txt', 'FileOps.ipynb', 'output.txt']\n"
     ]
    }
   ],
   "source": [
    "# OS library, can interact with operating system through python\n",
    "import os\n",
    "\n",
    "cwd = os.getcwd()\n",
    "print (cwd)\n",
    "\n",
    "print(os.listdir(cwd))"
   ]
  },
  {
   "cell_type": "code",
   "execution_count": 45,
   "metadata": {},
   "outputs": [],
   "source": [
    "# Regular expressions (RegEx)\n",
    "# use to find patterns within strings\n",
    "# need to use import re to use RegEx\n",
    "import re\n"
   ]
  },
  {
   "cell_type": "code",
   "execution_count": 54,
   "metadata": {},
   "outputs": [
    {
     "name": "stdout",
     "output_type": "stream",
     "text": [
      "<re.Match object; span=(0, 22), match='welcome to skillstorm!'>\n"
     ]
    }
   ],
   "source": [
    "# re methods\n",
    "# re.findall(str) \n",
    "# re.search(regex, str)\n",
    "# re.split(regex, str)\n",
    "# re.sub(regex, str, str)\n",
    "\n",
    "string = \"welcome to skillstorm!\"\n",
    "\n",
    "match = re.search(\"^welcome.*skillstorm!$\", string )\n",
    "print(match)"
   ]
  },
  {
   "cell_type": "code",
   "execution_count": 59,
   "metadata": {},
   "outputs": [
    {
     "name": "stdout",
     "output_type": "stream",
     "text": [
      "8\n",
      "[0, 1, 1, 2, 3, 5, 8, 13, 21, 34]\n"
     ]
    }
   ],
   "source": [
    "# Recursion (scary)\n",
    "\n",
    "def fibonacci(n):\n",
    "    if ( n <= 1):\n",
    "        return n\n",
    "    return fibonacci(n-1) + fibonacci(n-2)\n",
    "\n",
    "print(fibonacci(6))\n",
    "print([fibonacci(n) for n in range(10)])"
   ]
  },
  {
   "cell_type": "code",
   "execution_count": 60,
   "metadata": {},
   "outputs": [
    {
     "name": "stdout",
     "output_type": "stream",
     "text": [
      "[2, 4, 6, 8, 10]\n"
     ]
    }
   ],
   "source": [
    "# Lambda (also scary) REVIEW\n",
    "\n",
    "numbers = [1,2,3,4,5,6,7,8,9,10]\n",
    "even_numbers = list(filter(lambda x: (x%2==0), numbers))\n",
    "print(even_numbers)\n"
   ]
  }
 ],
 "metadata": {
  "kernelspec": {
   "display_name": "Python 3",
   "language": "python",
   "name": "python3"
  },
  "language_info": {
   "codemirror_mode": {
    "name": "ipython",
    "version": 3
   },
   "file_extension": ".py",
   "mimetype": "text/x-python",
   "name": "python",
   "nbconvert_exporter": "python",
   "pygments_lexer": "ipython3",
   "version": "3.12.1"
  }
 },
 "nbformat": 4,
 "nbformat_minor": 2
}
