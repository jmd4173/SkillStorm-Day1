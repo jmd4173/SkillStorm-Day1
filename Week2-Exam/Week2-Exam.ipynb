{
 "cells": [
  {
   "cell_type": "code",
   "execution_count": 2,
   "metadata": {},
   "outputs": [
    {
     "name": "stdout",
     "output_type": "stream",
     "text": [
      "Flight AB123 from New York to Los Angeles\n",
      "Passenger John Doe added successfully.\n",
      "Passenger Jane Smith added successfully.\n",
      "Seats available: 148\n",
      "Passenger John Doe removed successfully.\n",
      "Flight logged successfully.\n"
     ]
    }
   ],
   "source": [
    "class Flight:\n",
    "    def __init__(self, flight_number, departure_city, arrival_city, departure_time, seat_capacity=150):\n",
    "        self.flight_number = flight_number\n",
    "        self.departure_city = departure_city\n",
    "        self.arrival_city = arrival_city\n",
    "        self.departure_time = departure_time\n",
    "        self.passenger_list = []\n",
    "        self.seat_capacity = seat_capacity\n",
    "\n",
    "    def add_passenger(self, passenger_name):\n",
    "        if len(self.passenger_list) < self.seat_capacity:\n",
    "            self.passenger_list.append(passenger_name)\n",
    "            print(f\"Passenger {passenger_name} added successfully.\")\n",
    "        else:\n",
    "            print(\"The flight is full. Cannot add more passengers.\")\n",
    "\n",
    "    def remove_passenger(self, passenger_name):\n",
    "        if passenger_name in self.passenger_list:\n",
    "            self.passenger_list.remove(passenger_name)\n",
    "            print(f\"Passenger {passenger_name} removed successfully.\")\n",
    "        else:\n",
    "            print(f\"Passenger {passenger_name} is not on the flight.\")\n",
    "\n",
    "    def log_flight(self):\n",
    "        with open(\"flight_log.txt\", \"a\") as log_file:\n",
    "            log_file.write(f\"Flight {self.flight_number} from {self.departure_city} to {self.arrival_city} with {len(self.passenger_list)} passengers\\n\")\n",
    "            print(\"Flight logged successfully.\")\n",
    "\n",
    "    def check_availability(self):\n",
    "        return self.seat_capacity - len(self.passenger_list)\n",
    "\n",
    "    def __str__(self):\n",
    "        return f\"Flight {self.flight_number} from {self.departure_city} to {self.arrival_city}\"\n",
    "\n",
    "# Example usage\n",
    "if __name__ == \"__main__\":\n",
    "    flight = Flight(\"AB123\", \"New York\", \"Los Angeles\", \"2024-06-25 14:00\")\n",
    "    print(flight)\n",
    "    flight.add_passenger(\"John Doe\")\n",
    "    flight.add_passenger(\"Jane Smith\")\n",
    "    print(f\"Seats available: {flight.check_availability()}\")\n",
    "    flight.remove_passenger(\"John Doe\")\n",
    "    flight.log_flight()"
   ]
  }
 ],
 "metadata": {
  "kernelspec": {
   "display_name": ".venv",
   "language": "python",
   "name": "python3"
  },
  "language_info": {
   "codemirror_mode": {
    "name": "ipython",
    "version": 3
   },
   "file_extension": ".py",
   "mimetype": "text/x-python",
   "name": "python",
   "nbconvert_exporter": "python",
   "pygments_lexer": "ipython3",
   "version": "3.12.1"
  }
 },
 "nbformat": 4,
 "nbformat_minor": 2
}
