{
 "cells": [
  {
   "cell_type": "code",
   "execution_count": 4,
   "metadata": {},
   "outputs": [
    {
     "data": {
      "text/html": [
       "<div>\n",
       "<style scoped>\n",
       "    .dataframe tbody tr th:only-of-type {\n",
       "        vertical-align: middle;\n",
       "    }\n",
       "\n",
       "    .dataframe tbody tr th {\n",
       "        vertical-align: top;\n",
       "    }\n",
       "\n",
       "    .dataframe thead th {\n",
       "        text-align: right;\n",
       "    }\n",
       "</style>\n",
       "<table border=\"1\" class=\"dataframe\">\n",
       "  <thead>\n",
       "    <tr style=\"text-align: right;\">\n",
       "      <th></th>\n",
       "      <th>artist</th>\n",
       "      <th>song</th>\n",
       "      <th>duration_ms</th>\n",
       "      <th>explicit</th>\n",
       "      <th>year</th>\n",
       "      <th>popularity</th>\n",
       "      <th>danceability</th>\n",
       "      <th>energy</th>\n",
       "      <th>key</th>\n",
       "      <th>loudness</th>\n",
       "      <th>mode</th>\n",
       "      <th>speechiness</th>\n",
       "      <th>acousticness</th>\n",
       "      <th>instrumentalness</th>\n",
       "      <th>liveness</th>\n",
       "      <th>valence</th>\n",
       "      <th>tempo</th>\n",
       "      <th>genre</th>\n",
       "    </tr>\n",
       "  </thead>\n",
       "  <tbody>\n",
       "    <tr>\n",
       "      <th>0</th>\n",
       "      <td>Britney Spears</td>\n",
       "      <td>Oops!...I Did It Again</td>\n",
       "      <td>211160</td>\n",
       "      <td>False</td>\n",
       "      <td>2000</td>\n",
       "      <td>77</td>\n",
       "      <td>0.751</td>\n",
       "      <td>0.834</td>\n",
       "      <td>1</td>\n",
       "      <td>-5.444</td>\n",
       "      <td>0</td>\n",
       "      <td>0.0437</td>\n",
       "      <td>0.3000</td>\n",
       "      <td>0.000018</td>\n",
       "      <td>0.3550</td>\n",
       "      <td>0.894</td>\n",
       "      <td>95.053</td>\n",
       "      <td>pop</td>\n",
       "    </tr>\n",
       "    <tr>\n",
       "      <th>1</th>\n",
       "      <td>blink-182</td>\n",
       "      <td>All The Small Things</td>\n",
       "      <td>167066</td>\n",
       "      <td>False</td>\n",
       "      <td>1999</td>\n",
       "      <td>79</td>\n",
       "      <td>0.434</td>\n",
       "      <td>0.897</td>\n",
       "      <td>0</td>\n",
       "      <td>-4.918</td>\n",
       "      <td>1</td>\n",
       "      <td>0.0488</td>\n",
       "      <td>0.0103</td>\n",
       "      <td>0.000000</td>\n",
       "      <td>0.6120</td>\n",
       "      <td>0.684</td>\n",
       "      <td>148.726</td>\n",
       "      <td>rock, pop</td>\n",
       "    </tr>\n",
       "    <tr>\n",
       "      <th>2</th>\n",
       "      <td>Faith Hill</td>\n",
       "      <td>Breathe</td>\n",
       "      <td>250546</td>\n",
       "      <td>False</td>\n",
       "      <td>1999</td>\n",
       "      <td>66</td>\n",
       "      <td>0.529</td>\n",
       "      <td>0.496</td>\n",
       "      <td>7</td>\n",
       "      <td>-9.007</td>\n",
       "      <td>1</td>\n",
       "      <td>0.0290</td>\n",
       "      <td>0.1730</td>\n",
       "      <td>0.000000</td>\n",
       "      <td>0.2510</td>\n",
       "      <td>0.278</td>\n",
       "      <td>136.859</td>\n",
       "      <td>pop, country</td>\n",
       "    </tr>\n",
       "    <tr>\n",
       "      <th>3</th>\n",
       "      <td>Bon Jovi</td>\n",
       "      <td>It's My Life</td>\n",
       "      <td>224493</td>\n",
       "      <td>False</td>\n",
       "      <td>2000</td>\n",
       "      <td>78</td>\n",
       "      <td>0.551</td>\n",
       "      <td>0.913</td>\n",
       "      <td>0</td>\n",
       "      <td>-4.063</td>\n",
       "      <td>0</td>\n",
       "      <td>0.0466</td>\n",
       "      <td>0.0263</td>\n",
       "      <td>0.000013</td>\n",
       "      <td>0.3470</td>\n",
       "      <td>0.544</td>\n",
       "      <td>119.992</td>\n",
       "      <td>rock, metal</td>\n",
       "    </tr>\n",
       "    <tr>\n",
       "      <th>4</th>\n",
       "      <td>*NSYNC</td>\n",
       "      <td>Bye Bye Bye</td>\n",
       "      <td>200560</td>\n",
       "      <td>False</td>\n",
       "      <td>2000</td>\n",
       "      <td>65</td>\n",
       "      <td>0.614</td>\n",
       "      <td>0.928</td>\n",
       "      <td>8</td>\n",
       "      <td>-4.806</td>\n",
       "      <td>0</td>\n",
       "      <td>0.0516</td>\n",
       "      <td>0.0408</td>\n",
       "      <td>0.001040</td>\n",
       "      <td>0.0845</td>\n",
       "      <td>0.879</td>\n",
       "      <td>172.656</td>\n",
       "      <td>pop</td>\n",
       "    </tr>\n",
       "    <tr>\n",
       "      <th>...</th>\n",
       "      <td>...</td>\n",
       "      <td>...</td>\n",
       "      <td>...</td>\n",
       "      <td>...</td>\n",
       "      <td>...</td>\n",
       "      <td>...</td>\n",
       "      <td>...</td>\n",
       "      <td>...</td>\n",
       "      <td>...</td>\n",
       "      <td>...</td>\n",
       "      <td>...</td>\n",
       "      <td>...</td>\n",
       "      <td>...</td>\n",
       "      <td>...</td>\n",
       "      <td>...</td>\n",
       "      <td>...</td>\n",
       "      <td>...</td>\n",
       "      <td>...</td>\n",
       "    </tr>\n",
       "    <tr>\n",
       "      <th>1995</th>\n",
       "      <td>Jonas Brothers</td>\n",
       "      <td>Sucker</td>\n",
       "      <td>181026</td>\n",
       "      <td>False</td>\n",
       "      <td>2019</td>\n",
       "      <td>79</td>\n",
       "      <td>0.842</td>\n",
       "      <td>0.734</td>\n",
       "      <td>1</td>\n",
       "      <td>-5.065</td>\n",
       "      <td>0</td>\n",
       "      <td>0.0588</td>\n",
       "      <td>0.0427</td>\n",
       "      <td>0.000000</td>\n",
       "      <td>0.1060</td>\n",
       "      <td>0.952</td>\n",
       "      <td>137.958</td>\n",
       "      <td>pop</td>\n",
       "    </tr>\n",
       "    <tr>\n",
       "      <th>1996</th>\n",
       "      <td>Taylor Swift</td>\n",
       "      <td>Cruel Summer</td>\n",
       "      <td>178426</td>\n",
       "      <td>False</td>\n",
       "      <td>2019</td>\n",
       "      <td>78</td>\n",
       "      <td>0.552</td>\n",
       "      <td>0.702</td>\n",
       "      <td>9</td>\n",
       "      <td>-5.707</td>\n",
       "      <td>1</td>\n",
       "      <td>0.1570</td>\n",
       "      <td>0.1170</td>\n",
       "      <td>0.000021</td>\n",
       "      <td>0.1050</td>\n",
       "      <td>0.564</td>\n",
       "      <td>169.994</td>\n",
       "      <td>pop</td>\n",
       "    </tr>\n",
       "    <tr>\n",
       "      <th>1997</th>\n",
       "      <td>Blanco Brown</td>\n",
       "      <td>The Git Up</td>\n",
       "      <td>200593</td>\n",
       "      <td>False</td>\n",
       "      <td>2019</td>\n",
       "      <td>69</td>\n",
       "      <td>0.847</td>\n",
       "      <td>0.678</td>\n",
       "      <td>9</td>\n",
       "      <td>-8.635</td>\n",
       "      <td>1</td>\n",
       "      <td>0.1090</td>\n",
       "      <td>0.0669</td>\n",
       "      <td>0.000000</td>\n",
       "      <td>0.2740</td>\n",
       "      <td>0.811</td>\n",
       "      <td>97.984</td>\n",
       "      <td>hip hop, country</td>\n",
       "    </tr>\n",
       "    <tr>\n",
       "      <th>1998</th>\n",
       "      <td>Sam Smith</td>\n",
       "      <td>Dancing With A Stranger (with Normani)</td>\n",
       "      <td>171029</td>\n",
       "      <td>False</td>\n",
       "      <td>2019</td>\n",
       "      <td>75</td>\n",
       "      <td>0.741</td>\n",
       "      <td>0.520</td>\n",
       "      <td>8</td>\n",
       "      <td>-7.513</td>\n",
       "      <td>1</td>\n",
       "      <td>0.0656</td>\n",
       "      <td>0.4500</td>\n",
       "      <td>0.000002</td>\n",
       "      <td>0.2220</td>\n",
       "      <td>0.347</td>\n",
       "      <td>102.998</td>\n",
       "      <td>pop</td>\n",
       "    </tr>\n",
       "    <tr>\n",
       "      <th>1999</th>\n",
       "      <td>Post Malone</td>\n",
       "      <td>Circles</td>\n",
       "      <td>215280</td>\n",
       "      <td>False</td>\n",
       "      <td>2019</td>\n",
       "      <td>85</td>\n",
       "      <td>0.695</td>\n",
       "      <td>0.762</td>\n",
       "      <td>0</td>\n",
       "      <td>-3.497</td>\n",
       "      <td>1</td>\n",
       "      <td>0.0395</td>\n",
       "      <td>0.1920</td>\n",
       "      <td>0.002440</td>\n",
       "      <td>0.0863</td>\n",
       "      <td>0.553</td>\n",
       "      <td>120.042</td>\n",
       "      <td>hip hop</td>\n",
       "    </tr>\n",
       "  </tbody>\n",
       "</table>\n",
       "<p>2000 rows × 18 columns</p>\n",
       "</div>"
      ],
      "text/plain": [
       "              artist                                    song  duration_ms  \\\n",
       "0     Britney Spears                  Oops!...I Did It Again       211160   \n",
       "1          blink-182                    All The Small Things       167066   \n",
       "2         Faith Hill                                 Breathe       250546   \n",
       "3           Bon Jovi                            It's My Life       224493   \n",
       "4             *NSYNC                             Bye Bye Bye       200560   \n",
       "...              ...                                     ...          ...   \n",
       "1995  Jonas Brothers                                  Sucker       181026   \n",
       "1996    Taylor Swift                            Cruel Summer       178426   \n",
       "1997    Blanco Brown                              The Git Up       200593   \n",
       "1998       Sam Smith  Dancing With A Stranger (with Normani)       171029   \n",
       "1999     Post Malone                                 Circles       215280   \n",
       "\n",
       "      explicit  year  popularity  danceability  energy  key  loudness  mode  \\\n",
       "0        False  2000          77         0.751   0.834    1    -5.444     0   \n",
       "1        False  1999          79         0.434   0.897    0    -4.918     1   \n",
       "2        False  1999          66         0.529   0.496    7    -9.007     1   \n",
       "3        False  2000          78         0.551   0.913    0    -4.063     0   \n",
       "4        False  2000          65         0.614   0.928    8    -4.806     0   \n",
       "...        ...   ...         ...           ...     ...  ...       ...   ...   \n",
       "1995     False  2019          79         0.842   0.734    1    -5.065     0   \n",
       "1996     False  2019          78         0.552   0.702    9    -5.707     1   \n",
       "1997     False  2019          69         0.847   0.678    9    -8.635     1   \n",
       "1998     False  2019          75         0.741   0.520    8    -7.513     1   \n",
       "1999     False  2019          85         0.695   0.762    0    -3.497     1   \n",
       "\n",
       "      speechiness  acousticness  instrumentalness  liveness  valence    tempo  \\\n",
       "0          0.0437        0.3000          0.000018    0.3550    0.894   95.053   \n",
       "1          0.0488        0.0103          0.000000    0.6120    0.684  148.726   \n",
       "2          0.0290        0.1730          0.000000    0.2510    0.278  136.859   \n",
       "3          0.0466        0.0263          0.000013    0.3470    0.544  119.992   \n",
       "4          0.0516        0.0408          0.001040    0.0845    0.879  172.656   \n",
       "...           ...           ...               ...       ...      ...      ...   \n",
       "1995       0.0588        0.0427          0.000000    0.1060    0.952  137.958   \n",
       "1996       0.1570        0.1170          0.000021    0.1050    0.564  169.994   \n",
       "1997       0.1090        0.0669          0.000000    0.2740    0.811   97.984   \n",
       "1998       0.0656        0.4500          0.000002    0.2220    0.347  102.998   \n",
       "1999       0.0395        0.1920          0.002440    0.0863    0.553  120.042   \n",
       "\n",
       "                 genre  \n",
       "0                  pop  \n",
       "1            rock, pop  \n",
       "2         pop, country  \n",
       "3          rock, metal  \n",
       "4                  pop  \n",
       "...                ...  \n",
       "1995               pop  \n",
       "1996               pop  \n",
       "1997  hip hop, country  \n",
       "1998               pop  \n",
       "1999           hip hop  \n",
       "\n",
       "[2000 rows x 18 columns]"
      ]
     },
     "execution_count": 4,
     "metadata": {},
     "output_type": "execute_result"
    }
   ],
   "source": [
    "import pandas as pd\n",
    "# import dependencies\n",
    "\n",
    "df = pd.read_csv('C:\\\\Users\\\\jdangelo\\\\SkillStorm-Day1\\\\Week2-Exam\\\\songs_normalize.csv')\n",
    "df\n",
    "# read in csv for manipulation\n"
   ]
  },
  {
   "cell_type": "code",
   "execution_count": 7,
   "metadata": {},
   "outputs": [
    {
     "name": "stdout",
     "output_type": "stream",
     "text": [
      "The CSV contains 2000 rows.\n"
     ]
    }
   ],
   "source": [
    "print(f'The CSV contains {len(df)} rows.')\n",
    "# Find row count"
   ]
  },
  {
   "cell_type": "code",
   "execution_count": 10,
   "metadata": {},
   "outputs": [
    {
     "name": "stdout",
     "output_type": "stream",
     "text": [
      "The oldest song in this DataFrame is from 1998\n"
     ]
    }
   ],
   "source": [
    "# Find oldest song\n",
    "print(f'The oldest song in this DataFrame is from {df['year'].min()}')"
   ]
  },
  {
   "cell_type": "code",
   "execution_count": 29,
   "metadata": {},
   "outputs": [
    {
     "name": "stdout",
     "output_type": "stream",
     "text": [
      "The Most Popular song in this DataFrame is Sweater Weather with a popularity rating of 89\n"
     ]
    }
   ],
   "source": [
    "# Find most popular song\n",
    "pop_rating = df['popularity'].max()\n",
    "max_pop_song = df[df['popularity'] == df['popularity'].max()]['song'].iloc[0]\n",
    "print(f'The Most Popular song in this DataFrame is {max_pop_song} with a popularity rating of {pop_rating}')"
   ]
  },
  {
   "cell_type": "code",
   "execution_count": 37,
   "metadata": {},
   "outputs": [
    {
     "name": "stdout",
     "output_type": "stream",
     "text": [
      "There are 15 unique genres in this DataFrame\n"
     ]
    }
   ],
   "source": [
    "# Find unique Genre count\n",
    "df3 = df.copy()\n",
    "df3['genre'] = df3['genre'].str.split(', ')\n",
    "df3 = df3.explode('genre')\n",
    "# This was near exactly what I did for the Genres question on the assignment\n",
    "unique_genres = df3['genre'].nunique()\n",
    "print(f'There are {unique_genres} unique genres in this DataFrame')"
   ]
  },
  {
   "cell_type": "code",
   "execution_count": 42,
   "metadata": {},
   "outputs": [
    {
     "name": "stdout",
     "output_type": "stream",
     "text": [
      "The genre with the highest song count is pop\n"
     ]
    }
   ],
   "source": [
    "genre_count = df3['genre'].value_counts().idxmax()\n",
    "print(f'The genre with the highest song count is {genre_count}') "
   ]
  },
  {
   "cell_type": "code",
   "execution_count": 46,
   "metadata": {},
   "outputs": [
    {
     "name": "stdout",
     "output_type": "stream",
     "text": [
      "The artist with the most songs is Rihanna\n"
     ]
    }
   ],
   "source": [
    "top_artist_song_count = df3['artist'].value_counts().idxmax()\n",
    "print(f'The artist with the most songs is {top_artist_song_count}')"
   ]
  },
  {
   "cell_type": "code",
   "execution_count": 60,
   "metadata": {},
   "outputs": [
    {
     "name": "stdout",
     "output_type": "stream",
     "text": [
      "The artist with the longest song name is ZAYN with the song I Don’t Wanna Live Forever (Fifty Shades Darker) - From \"Fifty Shades Darker (Original Motion Picture Soundtrack)\"\n"
     ]
    }
   ],
   "source": [
    "df4 = df.copy()\n",
    "longest_song_name = df4.loc[df4['song'].str.len().idxmax()]['song']\n",
    "longest_song_name_artist = df4.loc[df4['song'].str.len().idxmax()]['artist']\n",
    "print(f'The artist with the longest song name is {longest_song_name_artist} with the song {longest_song_name}')"
   ]
  },
  {
   "cell_type": "code",
   "execution_count": 61,
   "metadata": {},
   "outputs": [
    {
     "data": {
      "text/html": [
       "<div>\n",
       "<style scoped>\n",
       "    .dataframe tbody tr th:only-of-type {\n",
       "        vertical-align: middle;\n",
       "    }\n",
       "\n",
       "    .dataframe tbody tr th {\n",
       "        vertical-align: top;\n",
       "    }\n",
       "\n",
       "    .dataframe thead th {\n",
       "        text-align: right;\n",
       "    }\n",
       "</style>\n",
       "<table border=\"1\" class=\"dataframe\">\n",
       "  <thead>\n",
       "    <tr style=\"text-align: right;\">\n",
       "      <th></th>\n",
       "      <th>duration_ms</th>\n",
       "    </tr>\n",
       "  </thead>\n",
       "  <tbody>\n",
       "    <tr>\n",
       "      <th>sum</th>\n",
       "      <td>457496249</td>\n",
       "    </tr>\n",
       "  </tbody>\n",
       "</table>\n",
       "</div>"
      ],
      "text/plain": [
       "     duration_ms\n",
       "sum    457496249"
      ]
     },
     "execution_count": 61,
     "metadata": {},
     "output_type": "execute_result"
    }
   ],
   "source": [
    "# Find total song duration \n",
    "aggr = df.copy()\n",
    "aggr['duration_ms'] = pd.to_numeric(aggr['duration_ms'], errors='coerce')\n",
    "aggr.agg({'duration_ms':['sum']})"
   ]
  },
  {
   "cell_type": "code",
   "execution_count": 70,
   "metadata": {},
   "outputs": [
    {
     "name": "stdout",
     "output_type": "stream",
     "text": [
      "The second most popular explicit song from 2010 is Not Afraid by Eminem\n"
     ]
    }
   ],
   "source": [
    "df5 = df.copy()\n",
    "# Essentially CTE table where year = 2010 & explicit = True\n",
    "# Creates new DF so finding popular explicit songs is much easier\n",
    "df5 = df[(df['year'] == 2010) & (df['explicit'] == True)]\n",
    "df6 = df5.sort_values('popularity', ascending=False)\n",
    "second_explicit_song = df6.iloc[1]['song']\n",
    "second_explicit_artist = df6.iloc[1]['artist']\n",
    "print(f'The second most popular explicit song from 2010 is {second_explicit_song} by {second_explicit_artist}')"
   ]
  },
  {
   "cell_type": "code",
   "execution_count": 103,
   "metadata": {},
   "outputs": [
    {
     "name": "stdout",
     "output_type": "stream",
     "text": [
      "The size difference between the two files is 29267\n"
     ]
    }
   ],
   "source": [
    "#https://docs.python.org/3/library/os.path.html\n",
    "import os\n",
    "# to pargquet\n",
    "df.to_parquet(\"C:\\\\Users\\\\jdangelo\\\\SkillStorm-Day1\\\\Week2-Exam.parquet\", compression='gzip')\n",
    "parquet_size = os.path.getsize(\"C:\\\\Users\\\\jdangelo\\\\SkillStorm-Day1\\\\Week2-Exam.parquet\")\n",
    "df_size = os.path.getsize(\"C:\\\\Users\\\\jdangelo\\\\SkillStorm-Day1\\\\Week2-Exam\\\\songs_normalize.csv\")\n",
    "\n",
    "print(f'The size difference between the two files is {abs(parquet_size-df_size)}')\n",
    "\n"
   ]
  },
  {
   "cell_type": "code",
   "execution_count": null,
   "metadata": {},
   "outputs": [],
   "source": []
  }
 ],
 "metadata": {
  "kernelspec": {
   "display_name": ".venv",
   "language": "python",
   "name": "python3"
  },
  "language_info": {
   "codemirror_mode": {
    "name": "ipython",
    "version": 3
   },
   "file_extension": ".py",
   "mimetype": "text/x-python",
   "name": "python",
   "nbconvert_exporter": "python",
   "pygments_lexer": "ipython3",
   "version": "3.12.1"
  }
 },
 "nbformat": 4,
 "nbformat_minor": 2
}
